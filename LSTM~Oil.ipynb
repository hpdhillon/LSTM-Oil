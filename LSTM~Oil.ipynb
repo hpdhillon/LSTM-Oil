{
 "cells": [
  {
   "cell_type": "markdown",
   "metadata": {},
   "source": [
    "# Hi! Welcome to my brutal attempt at a sliding window LSTM! This example will show you the strengths and weaknesses of an LSTM.\n",
    "\n",
    "First, I plot Brent prices by months, here you'll see a large spike caused by an exogenous factor at the end of the time series, which is why all of the time series algortihms I've used have a larger than usual error. "
   ]
  },
  {
   "cell_type": "code",
   "execution_count": 2,
   "metadata": {},
   "outputs": [
    {
     "data": {
      "text/plain": [
       "[<matplotlib.lines.Line2D at 0x229e6a06888>]"
      ]
     },
     "execution_count": 2,
     "metadata": {},
     "output_type": "execute_result"
    },
    {
     "data": {
      "image/png": "[encoded data removed]",
      "text/plain": [
       "<Figure size 432x288 with 1 Axes>"
      ]
     },
     "metadata": {
      "needs_background": "light"
     },
     "output_type": "display_data"
    }
   ],
   "source": [
    "import pandas as pd\n",
    "import matplotlib.pyplot as plt\n",
    "dataset = pd.read_csv(r'C:\\Users\\Paul\\Documents\\Spring 2019 Stuff\\EconBigData&Forecasting\\FinalProject\\Oil.csv')\n",
    "plt.ylim([0,100])\n",
    "plt.plot(dataset['DATE'], dataset['Brent'])"
   ]
  },
  {
   "cell_type": "markdown",
   "metadata": {},
   "source": [
    "Here I plot Brent against WTI to show how correlated the two oil indexes are."
   ]
  },
  {
   "cell_type": "code",
   "execution_count": 3,
   "metadata": {},
   "outputs": [
    {
     "data": {
      "text/plain": [
       "<matplotlib.collections.PathCollection at 0x229e6dd9488>"
      ]
     },
     "execution_count": 3,
     "metadata": {},
     "output_type": "execute_result"
    },
    {
     "data": {
      "image/png": "[encoded data removed]",
      "text/plain": [
       "<Figure size 432x288 with 1 Axes>"
      ]
     },
     "metadata": {
      "needs_background": "light"
     },
     "output_type": "display_data"
    }
   ],
   "source": [
    "plt.scatter(dataset['Brent'], dataset['WTI'])"
   ]
  },
  {
   "cell_type": "code",
   "execution_count": 4,
   "metadata": {},
   "outputs": [
    {
     "name": "stderr",
     "output_type": "stream",
     "text": [
      "Using TensorFlow backend.\n"
     ]
    },
    {
     "name": "stdout",
     "output_type": "stream",
     "text": [
      "done\n"
     ]
    }
   ],
   "source": [
    "import numpy as np\n",
    "import math\n",
    "import sklearn\n",
    "import keras\n",
    "from keras.models import Sequential\n",
    "from keras.layers import Dense\n",
    "from keras.layers import LSTM\n",
    "from sklearn.preprocessing import MinMaxScaler\n",
    "from sklearn.metrics import mean_squared_error"
   ]
  },
  {
   "cell_type": "code",
   "execution_count": 5,
   "metadata": {},
   "outputs": [],
   "source": [
    "Brent = dataset['Brent']\n",
    "WTI = dataset['WTI']"
   ]
  },
  {
   "cell_type": "code",
   "execution_count": 6,
   "metadata": {},
   "outputs": [
    {
     "name": "stdout",
     "output_type": "stream",
     "text": [
      "[18.58 18.86 19.86 18.98 18.31 18.76 17.78 17.05 16.75 15.73 14.73 16.6\n",
      " 16.31 15.54 14.91 14.89 13.18 12.41 13.02 15.31 17.17 16.89 18.7  20.32\n",
      " 18.63 17.67 17.62 16.77 17.77 18.91 18.73 19.84 21.25 19.81 18.39 16.61\n",
      " 16.35 15.1  17.17 27.17 34.9  36.02 33.07 28.27 23.57 19.54 19.08 19.18\n",
      " 19.19 18.17 19.4  19.77 20.5  22.21 21.11 18.41 18.16 18.05 17.63 18.92\n",
      " 19.89 21.16 20.24 19.74 20.27 20.26 19.21 18.14 17.39 18.47 18.79 18.67\n",
      " 18.51 17.65 16.78 16.7  16.01 16.61 15.2  13.73 14.29 13.8  13.82 15.23\n",
      " 16.19 16.76 17.6  16.89 15.9  16.49 17.19 15.93 16.55 17.11 17.01 18.65\n",
      " 18.35 17.31 15.85 16.1  16.7  16.11 16.86 17.93 17.85 18.   19.85 20.9\n",
      " 19.15 18.46 19.57 20.51 22.63 24.16 22.76 23.78 23.54 20.85 19.13 17.56\n",
      " 19.02 17.58 18.46 18.6  18.46 19.87 19.17 17.18 15.19 14.07 13.1  13.53\n",
      " 14.36 12.21 12.08 11.91 13.34 12.7  11.04  9.82 11.11 10.27 12.51 15.29\n",
      " 15.23 15.86 19.08 20.22 22.54 22.   24.58 25.47 25.51 27.78 27.49 22.76\n",
      " 27.74 29.8  28.68 30.2  33.14 30.96 32.55 25.66 25.62 27.5  24.5  25.66\n",
      " 28.31 27.85 24.61 25.68 25.62 20.54 18.8  18.71 19.42 20.28 23.7  25.73\n",
      " 25.35 24.08 25.74 26.65 28.4  27.54 24.34 28.33 31.18 32.77 30.61 25.\n",
      " 25.86 27.65 28.35 29.89 27.11 29.61 28.75 29.81 31.28 30.86 33.63 33.59\n",
      " 37.57 35.18 38.22 42.74 43.2  49.78 43.11 39.6  44.51 45.48 53.1  51.88\n",
      " 48.65 54.35 57.52 63.98 62.91 58.54 55.24 56.86]\n"
     ]
    },
    {
     "data": {
      "text/plain": [
       "224"
      ]
     },
     "execution_count": 6,
     "metadata": {},
     "output_type": "execute_result"
    }
   ],
   "source": [
    "Brent = np.array(Brent)\n",
    "print(Brent)\n",
    "len(Brent)"
   ]
  },
  {
   "cell_type": "markdown",
   "metadata": {},
   "source": [
    "Here I split my data into testing and training sets. Then I convert both into a window setting where 6 data points predict the next 6 data points. This is to remain consistent in the comparison between time series algorithms, however it does severely handicap the prediction accuracy (LSTMs are best for one or two step ahead forecasts with a multitude of inputs). I'm going to use an ES-LSTM next time I do time series prediction, however it won't be on this dataset. "
   ]
  },
  {
   "cell_type": "code",
   "execution_count": 7,
   "metadata": {},
   "outputs": [
    {
     "name": "stdout",
     "output_type": "stream",
     "text": [
      "65 14\n"
     ]
    }
   ],
   "source": [
    "Brent = Brent.astype('float32')\n",
    "\n",
    "\n",
    "\n",
    "#scaler = MinMaxScaler(feature_range=(-1, 1))\n",
    "#Brent = scaler.fit_transform(Brent)\n",
    "# split into train and test sets\n",
    "train_size = int(210)\n",
    "test_size = len(Brent) - train_size\n",
    "train = Brent[145:train_size]\n",
    "test = Brent[train_size:len(dataset)] \n",
    "print(len(train), len(test))\n",
    "# convert an array of values into a dataset matrix\n",
    "def create_dataset(dataset, look_back=3):\n",
    "    dataX, dataY = [], []\n",
    "    for i in range(len(dataset)-look_back-1):\n",
    "        a = dataset[i:(i+look_back)]\n",
    "        dataX.append(a)\n",
    "        dataY.append(dataset[i + look_back])\n",
    "    return np.array(dataX), np.array(dataY)"
   ]
  },
  {
   "cell_type": "code",
   "execution_count": 8,
   "metadata": {},
   "outputs": [],
   "source": [
    "# reshape into X=t and Y=t+1\n",
    "look_back = 6\n",
    "trainX, trainY = create_dataset(train, look_back)\n",
    "testX, testY = create_dataset(test, look_back)"
   ]
  },
  {
   "cell_type": "code",
   "execution_count": 9,
   "metadata": {},
   "outputs": [],
   "source": [
    "def rolling_window(a, window):\n",
    "    shape = a.shape[:-1] + (a.shape[-1] - window + 1, window)\n",
    "    strides = a.strides + (a.strides[-1],)\n",
    "    return np.lib.stride_tricks.as_strided(a, shape=shape, strides=strides)"
   ]
  },
  {
   "cell_type": "code",
   "execution_count": 10,
   "metadata": {},
   "outputs": [],
   "source": [
    "x = rolling_window(trainY, look_back)"
   ]
  },
  {
   "cell_type": "code",
   "execution_count": 11,
   "metadata": {},
   "outputs": [
    {
     "data": {
      "text/plain": [
       "53"
      ]
     },
     "execution_count": 11,
     "metadata": {},
     "output_type": "execute_result"
    }
   ],
   "source": [
    "len(x)"
   ]
  },
  {
   "cell_type": "code",
   "execution_count": 12,
   "metadata": {},
   "outputs": [
    {
     "data": {
      "text/plain": [
       "53"
      ]
     },
     "execution_count": 12,
     "metadata": {},
     "output_type": "execute_result"
    }
   ],
   "source": [
    "trainX = trainX[0:len(x)]\n",
    "len(trainX)"
   ]
  },
  {
   "cell_type": "code",
   "execution_count": 13,
   "metadata": {},
   "outputs": [
    {
     "data": {
      "text/plain": [
       "1"
      ]
     },
     "execution_count": 13,
     "metadata": {},
     "output_type": "execute_result"
    }
   ],
   "source": [
    "trainX = np.reshape(trainX, (trainX.shape[0], 1, trainX.shape[1]))\n",
    "testX = np.reshape(testX, (testX.shape[0], 1, testX.shape[1]))\n",
    "trainX.shape[1]"
   ]
  },
  {
   "cell_type": "code",
   "execution_count": 14,
   "metadata": {},
   "outputs": [
    {
     "name": "stdout",
     "output_type": "stream",
     "text": [
      "WARNING:tensorflow:From C:\\Users\\Paul\\Anaconda3\\lib\\site-packages\\keras\\backend\\tensorflow_backend.py:74: The name tf.get_default_graph is deprecated. Please use tf.compat.v1.get_default_graph instead.\n",
      "\n",
      "WARNING:tensorflow:From C:\\Users\\Paul\\Anaconda3\\lib\\site-packages\\keras\\backend\\tensorflow_backend.py:517: The name tf.placeholder is deprecated. Please use tf.compat.v1.placeholder instead.\n",
      "\n",
      "WARNING:tensorflow:From C:\\Users\\Paul\\Anaconda3\\lib\\site-packages\\keras\\backend\\tensorflow_backend.py:4138: The name tf.random_uniform is deprecated. Please use tf.random.uniform instead.\n",
      "\n",
      "WARNING:tensorflow:From C:\\Users\\Paul\\Anaconda3\\lib\\site-packages\\keras\\optimizers.py:790: The name tf.train.Optimizer is deprecated. Please use tf.compat.v1.train.Optimizer instead.\n",
      "\n",
      "WARNING:tensorflow:From C:\\Users\\Paul\\Anaconda3\\lib\\site-packages\\keras\\backend\\tensorflow_backend.py:986: The name tf.assign_add is deprecated. Please use tf.compat.v1.assign_add instead.\n",
      "\n",
      "WARNING:tensorflow:From C:\\Users\\Paul\\Anaconda3\\lib\\site-packages\\keras\\backend\\tensorflow_backend.py:973: The name tf.assign is deprecated. Please use tf.compat.v1.assign instead.\n",
      "\n",
      "WARNING:tensorflow:From C:\\Users\\Paul\\Anaconda3\\lib\\site-packages\\keras\\backend\\tensorflow_backend.py:2741: The name tf.Session is deprecated. Please use tf.compat.v1.Session instead.\n",
      "\n",
      "Epoch 1/250\n",
      "WARNING:tensorflow:From C:\\Users\\Paul\\Anaconda3\\lib\\site-packages\\keras\\backend\\tensorflow_backend.py:174: The name tf.get_default_session is deprecated. Please use tf.compat.v1.get_default_session instead.\n",
      "\n",
      "WARNING:tensorflow:From C:\\Users\\Paul\\Anaconda3\\lib\\site-packages\\keras\\backend\\tensorflow_backend.py:181: The name tf.ConfigProto is deprecated. Please use tf.compat.v1.ConfigProto instead.\n",
      "\n",
      "WARNING:tensorflow:From C:\\Users\\Paul\\Anaconda3\\lib\\site-packages\\keras\\backend\\tensorflow_backend.py:190: The name tf.global_variables is deprecated. Please use tf.compat.v1.global_variables instead.\n",
      "\n",
      "WARNING:tensorflow:From C:\\Users\\Paul\\Anaconda3\\lib\\site-packages\\keras\\backend\\tensorflow_backend.py:199: The name tf.is_variable_initialized is deprecated. Please use tf.compat.v1.is_variable_initialized instead.\n",
      "\n",
      "WARNING:tensorflow:From C:\\Users\\Paul\\Anaconda3\\lib\\site-packages\\keras\\backend\\tensorflow_backend.py:206: The name tf.variables_initializer is deprecated. Please use tf.compat.v1.variables_initializer instead.\n",
      "\n",
      " - 7s - loss: 576.9526\n",
      "Epoch 2/250\n",
      " - 0s - loss: 300.2952\n",
      "Epoch 3/250\n",
      " - 1s - loss: 173.4996\n",
      "Epoch 4/250\n",
      " - 0s - loss: 97.6156\n",
      "Epoch 5/250\n",
      " - 0s - loss: 59.9674\n",
      "Epoch 6/250\n",
      " - 0s - loss: 40.8277\n",
      "Epoch 7/250\n",
      " - 0s - loss: 31.5141\n",
      "Epoch 8/250\n",
      " - 0s - loss: 27.1675\n",
      "Epoch 9/250\n",
      " - 0s - loss: 24.7812\n",
      "Epoch 10/250\n",
      " - 0s - loss: 23.5708\n",
      "Epoch 11/250\n",
      " - 0s - loss: 23.4952\n",
      "Epoch 12/250\n",
      " - 0s - loss: 21.7444\n",
      "Epoch 13/250\n",
      " - 0s - loss: 21.3425\n",
      "Epoch 14/250\n",
      " - 0s - loss: 21.0646\n",
      "Epoch 15/250\n",
      " - 0s - loss: 21.0929\n",
      "Epoch 16/250\n",
      " - 0s - loss: 20.9776\n",
      "Epoch 17/250\n",
      " - 0s - loss: 20.3238\n",
      "Epoch 18/250\n",
      " - 0s - loss: 20.2025\n",
      "Epoch 19/250\n",
      " - 0s - loss: 20.0457\n",
      "Epoch 20/250\n",
      " - 0s - loss: 19.7051\n",
      "Epoch 21/250\n",
      " - 0s - loss: 19.6903\n",
      "Epoch 22/250\n",
      " - 0s - loss: 19.5215\n",
      "Epoch 23/250\n",
      " - 0s - loss: 18.8816\n",
      "Epoch 24/250\n",
      " - 0s - loss: 19.4881\n",
      "Epoch 25/250\n",
      " - 0s - loss: 18.5655\n",
      "Epoch 26/250\n",
      " - 0s - loss: 18.7057\n",
      "Epoch 27/250\n",
      " - 0s - loss: 19.0934\n",
      "Epoch 28/250\n",
      " - 0s - loss: 18.3163\n",
      "Epoch 29/250\n",
      " - 0s - loss: 18.3643\n",
      "Epoch 30/250\n",
      " - 0s - loss: 18.3035\n",
      "Epoch 31/250\n",
      " - 0s - loss: 18.3325\n",
      "Epoch 32/250\n",
      " - 0s - loss: 18.2517\n",
      "Epoch 33/250\n",
      " - 0s - loss: 18.4248\n",
      "Epoch 34/250\n",
      " - 0s - loss: 17.8756\n",
      "Epoch 35/250\n",
      " - 0s - loss: 17.9947\n",
      "Epoch 36/250\n",
      " - 0s - loss: 17.6390\n",
      "Epoch 37/250\n",
      " - 0s - loss: 17.5842\n",
      "Epoch 38/250\n",
      " - 0s - loss: 17.5204\n",
      "Epoch 39/250\n",
      " - 0s - loss: 17.6718\n",
      "Epoch 40/250\n",
      " - 0s - loss: 17.3217\n",
      "Epoch 41/250\n",
      " - 0s - loss: 16.9255\n",
      "Epoch 42/250\n",
      " - 0s - loss: 17.7322\n",
      "Epoch 43/250\n",
      " - 0s - loss: 17.2143\n",
      "Epoch 44/250\n",
      " - 0s - loss: 17.0815\n",
      "Epoch 45/250\n",
      " - 0s - loss: 17.2161\n",
      "Epoch 46/250\n",
      " - 0s - loss: 16.8535\n",
      "Epoch 47/250\n",
      " - 0s - loss: 16.5291\n",
      "Epoch 48/250\n",
      " - 0s - loss: 17.1777\n",
      "Epoch 49/250\n",
      " - 0s - loss: 16.8730\n",
      "Epoch 50/250\n",
      " - 0s - loss: 17.1172\n",
      "Epoch 51/250\n",
      " - 0s - loss: 16.7914\n",
      "Epoch 52/250\n",
      " - 0s - loss: 16.6769\n",
      "Epoch 53/250\n",
      " - 0s - loss: 16.4734\n",
      "Epoch 54/250\n",
      " - 0s - loss: 18.9819\n",
      "Epoch 55/250\n",
      " - 0s - loss: 16.9574\n",
      "Epoch 56/250\n",
      " - 0s - loss: 16.8111\n",
      "Epoch 57/250\n",
      " - 0s - loss: 16.8257\n",
      "Epoch 58/250\n",
      " - 0s - loss: 16.5562\n",
      "Epoch 59/250\n",
      " - 0s - loss: 16.4355\n",
      "Epoch 60/250\n",
      " - 0s - loss: 16.9248\n",
      "Epoch 61/250\n",
      " - 0s - loss: 17.0829\n",
      "Epoch 62/250\n",
      " - 0s - loss: 16.5177\n",
      "Epoch 63/250\n",
      " - 0s - loss: 16.5014\n",
      "Epoch 64/250\n",
      " - 0s - loss: 16.3736\n",
      "Epoch 65/250\n",
      " - 0s - loss: 16.6341\n",
      "Epoch 66/250\n",
      " - 0s - loss: 16.4915\n",
      "Epoch 67/250\n",
      " - 0s - loss: 16.4226\n",
      "Epoch 68/250\n",
      " - 0s - loss: 16.7010\n",
      "Epoch 69/250\n",
      " - 0s - loss: 16.8521\n",
      "Epoch 70/250\n",
      " - 0s - loss: 16.7368\n",
      "Epoch 71/250\n",
      " - 0s - loss: 16.4251\n",
      "Epoch 72/250\n",
      " - 0s - loss: 16.6710\n",
      "Epoch 73/250\n",
      " - 0s - loss: 16.8443\n",
      "Epoch 74/250\n",
      " - 0s - loss: 17.0454\n",
      "Epoch 75/250\n",
      " - 0s - loss: 16.6007\n",
      "Epoch 76/250\n",
      " - 0s - loss: 16.5807\n",
      "Epoch 77/250\n",
      " - 0s - loss: 16.4413\n",
      "Epoch 78/250\n",
      " - 0s - loss: 16.5258\n",
      "Epoch 79/250\n",
      " - 0s - loss: 16.2576\n",
      "Epoch 80/250\n",
      " - 0s - loss: 16.5992\n",
      "Epoch 81/250\n",
      " - 0s - loss: 16.2860\n",
      "Epoch 82/250\n",
      " - 0s - loss: 16.2459\n",
      "Epoch 83/250\n",
      " - 0s - loss: 16.6959\n",
      "Epoch 84/250\n",
      " - 0s - loss: 17.0439\n",
      "Epoch 85/250\n",
      " - 0s - loss: 16.2426\n",
      "Epoch 86/250\n",
      " - 0s - loss: 16.4129\n",
      "Epoch 87/250\n",
      " - 0s - loss: 16.4659\n",
      "Epoch 88/250\n",
      " - 0s - loss: 17.1034\n",
      "Epoch 89/250\n",
      " - 0s - loss: 16.8957\n",
      "Epoch 90/250\n",
      " - 0s - loss: 16.1918\n",
      "Epoch 91/250\n",
      " - 0s - loss: 16.0467\n",
      "Epoch 92/250\n",
      " - 0s - loss: 15.7911\n",
      "Epoch 93/250\n",
      " - 0s - loss: 16.8084\n",
      "Epoch 94/250\n",
      " - 0s - loss: 16.3446\n",
      "Epoch 95/250\n",
      " - 0s - loss: 16.3723\n",
      "Epoch 96/250\n",
      " - 0s - loss: 16.0284\n",
      "Epoch 97/250\n",
      " - 0s - loss: 16.8197\n",
      "Epoch 98/250\n",
      " - 0s - loss: 16.1747\n",
      "Epoch 99/250\n",
      " - 0s - loss: 16.0012\n",
      "Epoch 100/250\n",
      " - 0s - loss: 16.9407\n",
      "Epoch 101/250\n",
      " - 0s - loss: 16.3299\n",
      "Epoch 102/250\n",
      " - 0s - loss: 16.1844\n",
      "Epoch 103/250\n",
      " - 0s - loss: 16.3633\n",
      "Epoch 104/250\n",
      " - 0s - loss: 16.4407\n",
      "Epoch 105/250\n",
      " - 0s - loss: 16.8082\n",
      "Epoch 106/250\n",
      " - 0s - loss: 16.0571\n",
      "Epoch 107/250\n",
      " - 0s - loss: 16.0484\n",
      "Epoch 108/250\n",
      " - 0s - loss: 16.4951\n",
      "Epoch 109/250\n",
      " - 0s - loss: 16.0997\n",
      "Epoch 110/250\n",
      " - 0s - loss: 16.8851\n",
      "Epoch 111/250\n",
      " - 0s - loss: 15.7735\n",
      "Epoch 112/250\n",
      " - 0s - loss: 16.1130\n",
      "Epoch 113/250\n",
      " - 0s - loss: 16.9290\n",
      "Epoch 114/250\n",
      " - 0s - loss: 16.8602\n",
      "Epoch 115/250\n",
      " - 0s - loss: 15.8214\n",
      "Epoch 116/250\n",
      " - 0s - loss: 15.8714\n",
      "Epoch 117/250\n",
      " - 0s - loss: 15.8872\n",
      "Epoch 118/250\n",
      " - 0s - loss: 16.6455\n",
      "Epoch 119/250\n",
      " - 0s - loss: 15.6850\n",
      "Epoch 120/250\n",
      " - 0s - loss: 15.7274\n",
      "Epoch 121/250\n",
      " - 0s - loss: 17.3443\n",
      "Epoch 122/250\n",
      " - 0s - loss: 15.8904\n",
      "Epoch 123/250\n",
      " - 0s - loss: 16.1892\n",
      "Epoch 124/250\n",
      " - 0s - loss: 15.8865\n",
      "Epoch 125/250\n",
      " - 0s - loss: 16.1807\n",
      "Epoch 126/250\n",
      " - 0s - loss: 16.1193\n",
      "Epoch 127/250\n",
      " - 0s - loss: 16.1847\n",
      "Epoch 128/250\n",
      " - 0s - loss: 16.5036\n",
      "Epoch 129/250\n",
      " - 0s - loss: 16.9082\n",
      "Epoch 130/250\n",
      " - 0s - loss: 16.2337\n",
      "Epoch 131/250\n",
      " - 0s - loss: 16.0673\n",
      "Epoch 132/250\n",
      " - 0s - loss: 15.8722\n",
      "Epoch 133/250\n",
      " - 0s - loss: 16.0709\n",
      "Epoch 134/250\n",
      " - 0s - loss: 15.6275\n",
      "Epoch 135/250\n",
      " - 0s - loss: 15.9444\n",
      "Epoch 136/250\n",
      " - 0s - loss: 15.9989\n",
      "Epoch 137/250\n",
      " - 0s - loss: 16.6207\n",
      "Epoch 138/250\n",
      " - 0s - loss: 16.0268\n",
      "Epoch 139/250\n",
      " - 0s - loss: 15.9958\n",
      "Epoch 140/250\n",
      " - 0s - loss: 16.2757\n",
      "Epoch 141/250\n",
      " - 0s - loss: 16.0891\n",
      "Epoch 142/250\n",
      " - 0s - loss: 15.9774\n",
      "Epoch 143/250\n",
      " - 0s - loss: 16.1615\n",
      "Epoch 144/250\n",
      " - 0s - loss: 15.7468\n",
      "Epoch 145/250\n",
      " - 0s - loss: 15.7923\n",
      "Epoch 146/250\n",
      " - 0s - loss: 15.7504\n",
      "Epoch 147/250\n",
      " - 0s - loss: 16.1815\n",
      "Epoch 148/250\n",
      " - 0s - loss: 15.7477\n",
      "Epoch 149/250\n",
      " - 0s - loss: 15.7630\n",
      "Epoch 150/250\n",
      " - 0s - loss: 16.0407\n",
      "Epoch 151/250\n",
      " - 0s - loss: 16.0408\n",
      "Epoch 152/250\n",
      " - 0s - loss: 15.5943\n",
      "Epoch 153/250\n",
      " - 0s - loss: 15.8584\n",
      "Epoch 154/250\n",
      " - 0s - loss: 16.9487\n",
      "Epoch 155/250\n",
      " - 0s - loss: 16.0407\n",
      "Epoch 156/250\n",
      " - 0s - loss: 16.2225\n",
      "Epoch 157/250\n",
      " - 0s - loss: 16.1149\n",
      "Epoch 158/250\n",
      " - 0s - loss: 15.5977\n",
      "Epoch 159/250\n",
      " - 0s - loss: 16.4358\n",
      "Epoch 160/250\n",
      " - 0s - loss: 16.2690\n",
      "Epoch 161/250\n",
      " - 0s - loss: 16.8384\n",
      "Epoch 162/250\n",
      " - 0s - loss: 15.9856\n",
      "Epoch 163/250\n",
      " - 0s - loss: 15.9895\n",
      "Epoch 164/250\n",
      " - 0s - loss: 15.7572\n",
      "Epoch 165/250\n",
      " - 0s - loss: 15.7667\n",
      "Epoch 166/250\n",
      " - 0s - loss: 15.4910\n",
      "Epoch 167/250\n",
      " - 0s - loss: 16.0126\n",
      "Epoch 168/250\n",
      " - 0s - loss: 16.0468\n",
      "Epoch 169/250\n",
      " - 0s - loss: 15.4432\n",
      "Epoch 170/250\n",
      " - 0s - loss: 15.7422\n",
      "Epoch 171/250\n",
      " - 0s - loss: 15.4410\n",
      "Epoch 172/250\n",
      " - 0s - loss: 16.0111\n",
      "Epoch 173/250\n",
      " - 0s - loss: 15.6905\n",
      "Epoch 174/250\n",
      " - 0s - loss: 16.2045\n",
      "Epoch 175/250\n",
      " - 0s - loss: 15.4358\n",
      "Epoch 176/250\n",
      " - 0s - loss: 15.7423\n",
      "Epoch 177/250\n",
      " - 0s - loss: 16.0781\n",
      "Epoch 178/250\n",
      " - 0s - loss: 15.8005\n",
      "Epoch 179/250\n",
      " - 0s - loss: 15.6779\n",
      "Epoch 180/250\n",
      " - 0s - loss: 16.1062\n",
      "Epoch 181/250\n",
      " - 0s - loss: 16.1009\n",
      "Epoch 182/250\n",
      " - 0s - loss: 15.4330\n",
      "Epoch 183/250\n",
      " - 0s - loss: 15.6572\n",
      "Epoch 184/250\n",
      " - 0s - loss: 16.0060\n",
      "Epoch 185/250\n",
      " - 0s - loss: 15.6954\n",
      "Epoch 186/250\n",
      " - 0s - loss: 15.5000\n",
      "Epoch 187/250\n",
      " - 0s - loss: 15.9056\n",
      "Epoch 188/250\n",
      " - 0s - loss: 15.5934\n",
      "Epoch 189/250\n",
      " - 0s - loss: 15.5713\n",
      "Epoch 190/250\n",
      " - 0s - loss: 15.3332\n",
      "Epoch 191/250\n",
      " - 0s - loss: 16.0668\n",
      "Epoch 192/250\n",
      " - 0s - loss: 15.4944\n",
      "Epoch 193/250\n",
      " - 0s - loss: 15.7488\n",
      "Epoch 194/250\n",
      " - 0s - loss: 16.1426\n",
      "Epoch 195/250\n",
      " - 0s - loss: 15.6699\n",
      "Epoch 196/250\n",
      " - 0s - loss: 15.4865\n",
      "Epoch 197/250\n",
      " - 0s - loss: 15.9736\n",
      "Epoch 198/250\n",
      " - 0s - loss: 15.5511\n",
      "Epoch 199/250\n",
      " - 0s - loss: 15.6472\n",
      "Epoch 200/250\n",
      " - 0s - loss: 15.7048\n",
      "Epoch 201/250\n",
      " - 0s - loss: 15.6260\n",
      "Epoch 202/250\n",
      " - 0s - loss: 15.9496\n",
      "Epoch 203/250\n",
      " - 0s - loss: 16.3056\n",
      "Epoch 204/250\n",
      " - 0s - loss: 16.1311\n",
      "Epoch 205/250\n",
      " - 0s - loss: 15.5272\n",
      "Epoch 206/250\n",
      " - 0s - loss: 15.3649\n",
      "Epoch 207/250\n",
      " - 0s - loss: 15.9182\n",
      "Epoch 208/250\n",
      " - 0s - loss: 15.6056\n",
      "Epoch 209/250\n",
      " - 0s - loss: 15.8670\n",
      "Epoch 210/250\n",
      " - 0s - loss: 15.8830\n",
      "Epoch 211/250\n",
      " - 0s - loss: 15.3707\n",
      "Epoch 212/250\n",
      " - 0s - loss: 15.8300\n",
      "Epoch 213/250\n",
      " - 0s - loss: 15.4111\n",
      "Epoch 214/250\n",
      " - 0s - loss: 15.3671\n",
      "Epoch 215/250\n",
      " - 0s - loss: 15.9015\n",
      "Epoch 216/250\n",
      " - 0s - loss: 15.8559\n",
      "Epoch 217/250\n",
      " - 0s - loss: 16.0582\n",
      "Epoch 218/250\n",
      " - 0s - loss: 15.6446\n",
      "Epoch 219/250\n",
      " - 0s - loss: 15.4666\n",
      "Epoch 220/250\n",
      " - 0s - loss: 15.2909\n",
      "Epoch 221/250\n",
      " - 0s - loss: 15.6181\n",
      "Epoch 222/250\n",
      " - 0s - loss: 15.1967\n",
      "Epoch 223/250\n",
      " - 0s - loss: 15.9302\n",
      "Epoch 224/250\n",
      " - 0s - loss: 15.9388\n",
      "Epoch 225/250\n",
      " - 0s - loss: 15.9271\n",
      "Epoch 226/250\n",
      " - 0s - loss: 15.3114\n",
      "Epoch 227/250\n",
      " - 0s - loss: 15.6185\n",
      "Epoch 228/250\n",
      " - 0s - loss: 15.3147\n",
      "Epoch 229/250\n",
      " - 0s - loss: 15.3464\n",
      "Epoch 230/250\n",
      " - 0s - loss: 15.8930\n",
      "Epoch 231/250\n",
      " - 0s - loss: 15.4183\n",
      "Epoch 232/250\n",
      " - 0s - loss: 15.4571\n",
      "Epoch 233/250\n",
      " - 0s - loss: 15.5322\n",
      "Epoch 234/250\n",
      " - 0s - loss: 15.4433\n",
      "Epoch 235/250\n",
      " - 0s - loss: 15.3100\n",
      "Epoch 236/250\n",
      " - 0s - loss: 15.5645\n",
      "Epoch 237/250\n",
      " - 0s - loss: 16.8626\n",
      "Epoch 238/250\n",
      " - 0s - loss: 15.4286\n",
      "Epoch 239/250\n",
      " - 0s - loss: 15.1254\n",
      "Epoch 240/250\n",
      " - 0s - loss: 15.5408\n",
      "Epoch 241/250\n",
      " - 0s - loss: 15.3891\n",
      "Epoch 242/250\n",
      " - 0s - loss: 15.7537\n",
      "Epoch 243/250\n",
      " - 0s - loss: 15.4078\n",
      "Epoch 244/250\n",
      " - 0s - loss: 15.3219\n",
      "Epoch 245/250\n",
      " - 0s - loss: 15.2601\n",
      "Epoch 246/250\n",
      " - 0s - loss: 15.4714\n",
      "Epoch 247/250\n",
      " - 0s - loss: 15.1766\n",
      "Epoch 248/250\n",
      " - 0s - loss: 15.5150\n",
      "Epoch 249/250\n",
      " - 0s - loss: 15.3413\n",
      "Epoch 250/250\n",
      " - 0s - loss: 15.2848\n"
     ]
    },
    {
     "data": {
      "text/plain": [
       "<keras.callbacks.History at 0x229f007d8c8>"
      ]
     },
     "execution_count": 14,
     "metadata": {},
     "output_type": "execute_result"
    }
   ],
   "source": [
    "model = Sequential()\n",
    "model.add(LSTM(6, recurrent_activation='linear', input_shape=(1, look_back)))\n",
    "model.add(Dense(look_back))\n",
    "model.compile(loss='mean_squared_error', optimizer='adam')\n",
    "model.fit(trainX, x, epochs=250, batch_size=1, verbose=2)"
   ]
  },
  {
   "cell_type": "code",
   "execution_count": 15,
   "metadata": {
    "scrolled": false
   },
   "outputs": [],
   "source": [
    "testPredict = model.predict(testX)"
   ]
  },
  {
   "cell_type": "code",
   "execution_count": 16,
   "metadata": {},
   "outputs": [
    {
     "data": {
      "text/plain": [
       "array([[49.395065, 46.963654, 47.99479 , 48.61837 , 48.87226 , 50.55484 ],\n",
       "       [50.58197 , 52.186924, 50.491722, 48.48106 , 50.971657, 52.326256],\n",
       "       [53.665154, 53.53684 , 53.657364, 53.711975, 54.67553 , 55.6172  ],\n",
       "       [53.6062  , 54.26315 , 54.262478, 54.371292, 54.91997 , 56.830875],\n",
       "       [57.299225, 55.352604, 56.92353 , 59.43711 , 57.152596, 59.35081 ],\n",
       "       [60.518642, 58.16541 , 58.94422 , 59.354553, 59.84043 , 61.75739 ],\n",
       "       [61.25455 , 62.861008, 61.224148, 58.615906, 62.283447, 63.99838 ]],\n",
       "      dtype=float32)"
      ]
     },
     "execution_count": 16,
     "metadata": {},
     "output_type": "execute_result"
    }
   ],
   "source": [
    "testPredict"
   ]
  },
  {
   "cell_type": "code",
   "execution_count": 17,
   "metadata": {},
   "outputs": [
    {
     "data": {
      "text/plain": [
       "array([48.65, 54.35, 57.52, 63.98, 62.91, 58.54, 55.24], dtype=float32)"
      ]
     },
     "execution_count": 17,
     "metadata": {},
     "output_type": "execute_result"
    }
   ],
   "source": [
    "testY"
   ]
  },
  {
   "cell_type": "code",
   "execution_count": 18,
   "metadata": {},
   "outputs": [
    {
     "name": "stdout",
     "output_type": "stream",
     "text": [
      "[  0.7450638  -7.386345   -9.525211  -15.3616295 -14.037739   -7.985161 ]\n",
      "-8.92517\n",
      "10.349262716229173\n",
      "0\n",
      "[ -3.7680283  -5.3330765 -13.488277  -14.42894    -7.568344   -2.9137459]\n",
      "-7.916735\n",
      "9.115347996198327\n",
      "1\n"
     ]
    }
   ],
   "source": [
    "for i in range(len(testY)-5):\n",
    "    a = testPredict[i]\n",
    "    m = a- testY[i:len(testY)-1+i]\n",
    "    print(m)\n",
    "    print(np.mean(m))\n",
    "    k = math.sqrt(mean_squared_error(a, testY[i:len(testY)-1+i]))\n",
    "    print(k)\n",
    "    print(i)\n"
   ]
  },
  {
   "cell_type": "code",
   "execution_count": 19,
   "metadata": {
    "scrolled": true
   },
   "outputs": [
    {
     "data": {
      "text/plain": [
       "[<matplotlib.lines.Line2D at 0x229ffe34748>]"
      ]
     },
     "execution_count": 19,
     "metadata": {},
     "output_type": "execute_result"
    },
    {
     "data": {
      "image/png": "[encoded data removed]",
      "text/plain": [
       "<Figure size 432x288 with 1 Axes>"
      ]
     },
     "metadata": {
      "needs_background": "light"
     },
     "output_type": "display_data"
    }
   ],
   "source": [
    "plt.ylim([0,100])\n",
    "plt.plot(testPredict[0])\n",
    "plt.plot(testY[0:6])"
   ]
  },
  {
   "cell_type": "code",
   "execution_count": 21,
   "metadata": {},
   "outputs": [
    {
     "data": {
      "text/plain": [
       "[<matplotlib.lines.Line2D at 0x229ffefa908>]"
      ]
     },
     "execution_count": 21,
     "metadata": {},
     "output_type": "execute_result"
    },
    {
     "data": {
      "image/png": "[encoded data removed]",
      "text/plain": [
       "<Figure size 432x288 with 1 Axes>"
      ]
     },
     "metadata": {
      "needs_background": "light"
     },
     "output_type": "display_data"
    }
   ],
   "source": [
    "plt.ylim([0,100])\n",
    "plt.plot(testPredict[1])\n",
    "plt.plot(testY[1:7])"
   ]
  },
  {
   "cell_type": "markdown",
   "metadata": {},
   "source": [
    "# Everything below this is experimental & is technically gibberish at this point! I'm going to revisit this later when I try to make a cointegrated deep learning attempt."
   ]
  },
  {
   "cell_type": "code",
   "execution_count": 130,
   "metadata": {},
   "outputs": [
    {
     "name": "stdout",
     "output_type": "stream",
     "text": [
      "65 14\n"
     ]
    }
   ],
   "source": [
    "WTI = np.array(WTI)\n",
    "WTI = WTI.astype('float32')\n",
    "\n",
    "\n",
    "\n",
    "#scaler = MinMaxScaler(feature_range=(-1, 1))\n",
    "#WTI = scaler.fit_transform(WTI)\n",
    "# split into train and test sets\n",
    "train_size = int(210)\n",
    "test_size = len(WTI) - train_size\n",
    "train = WTI[145:train_size]\n",
    "test = WTI[train_size:len(dataset)] \n",
    "print(len(train), len(test))\n",
    "# convert an array of values into a dataset matrix\n",
    "def create_dataset(dataset, look_back=3):\n",
    "    dataX, dataY = [], []\n",
    "    for i in range(len(dataset)-look_back-1):\n",
    "        a = dataset[i:(i+look_back)]\n",
    "        dataX.append(a)\n",
    "        dataY.append(dataset[i + look_back])\n",
    "    return np.array(dataX), np.array(dataY)"
   ]
  },
  {
   "cell_type": "code",
   "execution_count": 131,
   "metadata": {},
   "outputs": [],
   "source": [
    "look_back = 1\n",
    "WTItrainX, WTItrainY = create_dataset(train, look_back)\n",
    "WTItestX, WTItestY = create_dataset(test, look_back)\n",
    "WTItrainX = WTItrainX.T"
   ]
  },
  {
   "cell_type": "code",
   "execution_count": 134,
   "metadata": {},
   "outputs": [],
   "source": [
    "#WTItrainX = np.column_stack((WTItrainX, trainX))\n",
    "#WTItrainY = np.column_stack((WTItrainY, trainY))\n",
    "#WTItestX = np.column_stack((WTItestX, testX))\n",
    "#WTItestY = np.column_stack((WTItestY, testY))\n",
    "#WTItrainX\n",
    "#WTItrainX = np.reshape(WTItrainX, (WTItrainX.shape[0], 1, WTItrainX.shape[1]))\n",
    "#WTItestX = np.reshape(WTItestX, (WTItestX.shape[0], 1, WTItestX.shape[1]))\n",
    "#WTItrainX.shape[1]"
   ]
  },
  {
   "cell_type": "code",
   "execution_count": 162,
   "metadata": {},
   "outputs": [],
   "source": [
    "#model = Sequential()\n",
    "#model.add(LSTM(6, recurrent_activation='linear', input_shape=(1, look_back)))\n",
    "#model.add(Dense(look_back))\n",
    "#model.compile(loss='mean_squared_error', optimizer='adam')\n",
    "#model.fit(WTItrainX, WTItrainY, epochs=100, batch_size=1, verbose=2)"
   ]
  },
  {
   "cell_type": "code",
   "execution_count": 163,
   "metadata": {},
   "outputs": [],
   "source": [
    "#trainPredict = np.reshape(trainPredict, (trainPredict.shape[0], 1, trainPredict.shape[1]))\n",
    "#from keras.preprocessing.sequence import TimeseriesGenerator\n",
    "#gen = TimeseriesGenerator(trainY, trainY, length = 3)\n",
    "#for i in range(len(gen)):\n",
    "#    if i==0:\n",
    "#        x = gen[i]\n",
    "#    if i==1:\n",
    "#        y = gen[i]\n",
    "#    print(x)\n",
    "#m = numpy.concatenate((x, y))\n",
    "#print(len(x[0]), len(y[0]))\n"
   ]
  }
 ],
 "metadata": {
  "kernelspec": {
   "display_name": "Python 3",
   "language": "python",
   "name": "python3"
  },
  "language_info": {
   "codemirror_mode": {
    "name": "ipython",
    "version": 3
   },
   "file_extension": ".py",
   "mimetype": "text/x-python",
   "name": "python",
   "nbconvert_exporter": "python",
   "pygments_lexer": "ipython3",
   "version": "3.7.4"
  }
 },
 "nbformat": 4,
 "nbformat_minor": 2
}
