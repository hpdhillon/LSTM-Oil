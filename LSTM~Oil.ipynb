{
 "cells": [
  {
   "cell_type": "code",
   "execution_count": 140,
   "metadata": {},
   "outputs": [
    {
     "data": {
      "text/plain": [
       "[<matplotlib.lines.Line2D at 0x2513f74f448>]"
      ]
     },
     "execution_count": 140,
     "metadata": {},
     "output_type": "execute_result"
    },
    {
     "data": {
      "image/png": "[encoded data removed]",
      "text/plain": [
       "<Figure size 432x288 with 1 Axes>"
      ]
     },
     "metadata": {
      "needs_background": "light"
     },
     "output_type": "display_data"
    }
   ],
   "source": [
    "import pandas as pd\n",
    "import matplotlib.pyplot as plt\n",
    "dataset = pd.read_csv(r'C:\\Users\\Paul\\Documents\\Spring 2019 Stuff\\EconBigData&Forecasting\\FinalProject\\Oil.csv')\n",
    "plt.ylim([0,100])\n",
    "plt.plot(dataset['DATE'], dataset['Brent'])"
   ]
  },
  {
   "cell_type": "code",
   "execution_count": 141,
   "metadata": {},
   "outputs": [
    {
     "data": {
      "text/plain": [
       "<matplotlib.collections.PathCollection at 0x2515eb3d708>"
      ]
     },
     "execution_count": 141,
     "metadata": {},
     "output_type": "execute_result"
    },
    {
     "data": {
      "image/png": "[encoded data removed]",
      "text/plain": [
       "<Figure size 432x288 with 1 Axes>"
      ]
     },
     "metadata": {
      "needs_background": "light"
     },
     "output_type": "display_data"
    }
   ],
   "source": [
    "plt.scatter(dataset['Brent'], dataset['WTI'])"
   ]
  },
  {
   "cell_type": "code",
   "execution_count": 142,
   "metadata": {},
   "outputs": [
    {
     "name": "stdout",
     "output_type": "stream",
     "text": [
      "done\n"
     ]
    }
   ],
   "source": [
    "import numpy as np\n",
    "import math\n",
    "import sklearn\n",
    "import keras\n",
    "from keras.models import Sequential\n",
    "from keras.layers import Dense\n",
    "from keras.layers import LSTM\n",
    "from sklearn.preprocessing import MinMaxScaler\n",
    "from sklearn.metrics import mean_squared_error\n",
    "print(\"done\")"
   ]
  },
  {
   "cell_type": "code",
   "execution_count": 143,
   "metadata": {},
   "outputs": [],
   "source": [
    "Brent = dataset['Brent']\n",
    "WTI = dataset['WTI']"
   ]
  },
  {
   "cell_type": "code",
   "execution_count": 144,
   "metadata": {},
   "outputs": [
    {
     "name": "stdout",
     "output_type": "stream",
     "text": [
      "[18.58 18.86 19.86 18.98 18.31 18.76 17.78 17.05 16.75 15.73 14.73 16.6\n",
      " 16.31 15.54 14.91 14.89 13.18 12.41 13.02 15.31 17.17 16.89 18.7  20.32\n",
      " 18.63 17.67 17.62 16.77 17.77 18.91 18.73 19.84 21.25 19.81 18.39 16.61\n",
      " 16.35 15.1  17.17 27.17 34.9  36.02 33.07 28.27 23.57 19.54 19.08 19.18\n",
      " 19.19 18.17 19.4  19.77 20.5  22.21 21.11 18.41 18.16 18.05 17.63 18.92\n",
      " 19.89 21.16 20.24 19.74 20.27 20.26 19.21 18.14 17.39 18.47 18.79 18.67\n",
      " 18.51 17.65 16.78 16.7  16.01 16.61 15.2  13.73 14.29 13.8  13.82 15.23\n",
      " 16.19 16.76 17.6  16.89 15.9  16.49 17.19 15.93 16.55 17.11 17.01 18.65\n",
      " 18.35 17.31 15.85 16.1  16.7  16.11 16.86 17.93 17.85 18.   19.85 20.9\n",
      " 19.15 18.46 19.57 20.51 22.63 24.16 22.76 23.78 23.54 20.85 19.13 17.56\n",
      " 19.02 17.58 18.46 18.6  18.46 19.87 19.17 17.18 15.19 14.07 13.1  13.53\n",
      " 14.36 12.21 12.08 11.91 13.34 12.7  11.04  9.82 11.11 10.27 12.51 15.29\n",
      " 15.23 15.86 19.08 20.22 22.54 22.   24.58 25.47 25.51 27.78 27.49 22.76\n",
      " 27.74 29.8  28.68 30.2  33.14 30.96 32.55 25.66 25.62 27.5  24.5  25.66\n",
      " 28.31 27.85 24.61 25.68 25.62 20.54 18.8  18.71 19.42 20.28 23.7  25.73\n",
      " 25.35 24.08 25.74 26.65 28.4  27.54 24.34 28.33 31.18 32.77 30.61 25.\n",
      " 25.86 27.65 28.35 29.89 27.11 29.61 28.75 29.81 31.28 30.86 33.63 33.59\n",
      " 37.57 35.18 38.22 42.74 43.2  49.78 43.11 39.6  44.51 45.48 53.1  51.88\n",
      " 48.65 54.35 57.52 63.98 62.91 58.54 55.24 56.86]\n"
     ]
    },
    {
     "data": {
      "text/plain": [
       "224"
      ]
     },
     "execution_count": 144,
     "metadata": {},
     "output_type": "execute_result"
    }
   ],
   "source": [
    "Brent = np.array(Brent)\n",
    "print(Brent)\n",
    "len(Brent)"
   ]
  },
  {
   "cell_type": "code",
   "execution_count": 145,
   "metadata": {},
   "outputs": [
    {
     "name": "stdout",
     "output_type": "stream",
     "text": [
      "65 14\n"
     ]
    }
   ],
   "source": [
    "Brent = Brent.astype('float32')\n",
    "\n",
    "\n",
    "#normalize the dataset\n",
    "#scaler = MinMaxScaler(feature_range=(-1, 1))\n",
    "#dataset = scaler.fit_transform(dataset)\n",
    "# split into train and test sets\n",
    "train_size = int(210)\n",
    "test_size = len(Brent) - train_size\n",
    "train = Brent[145:train_size]\n",
    "test = Brent[train_size:len(dataset)] \n",
    "print(len(train), len(test))\n",
    "# convert an array of values into a dataset matrix\n",
    "def create_dataset(dataset, look_back=3):\n",
    "    dataX, dataY = [], []\n",
    "    for i in range(len(dataset)-look_back-1):\n",
    "        a = dataset[i:(i+look_back)]\n",
    "        dataX.append(a)\n",
    "        dataY.append(dataset[i + look_back])\n",
    "    return np.array(dataX), np.array(dataY)"
   ]
  },
  {
   "cell_type": "code",
   "execution_count": 146,
   "metadata": {},
   "outputs": [],
   "source": [
    "# reshape into X=t and Y=t+1\n",
    "look_back = 6\n",
    "trainX, trainY = create_dataset(train, look_back)\n",
    "testX, testY = create_dataset(test, look_back)"
   ]
  },
  {
   "cell_type": "code",
   "execution_count": 147,
   "metadata": {},
   "outputs": [],
   "source": [
    "#from keras.preprocessing.sequence import TimeseriesGenerator\n",
    "#gen = TimeseriesGenerator(trainY, trainY, length = 3)"
   ]
  },
  {
   "cell_type": "code",
   "execution_count": 148,
   "metadata": {},
   "outputs": [],
   "source": [
    "#for i in range(len(gen)):\n",
    "#    if i==0:\n",
    "#        x = gen[i]\n",
    "#    if i==1:\n",
    "#        y = gen[i]\n",
    "#    print(x)\n",
    "#m = numpy.concatenate((x, y))"
   ]
  },
  {
   "cell_type": "code",
   "execution_count": 149,
   "metadata": {},
   "outputs": [],
   "source": [
    "#print(len(x[0]), len(y[0]))"
   ]
  },
  {
   "cell_type": "code",
   "execution_count": 150,
   "metadata": {},
   "outputs": [],
   "source": [
    "def rolling_window(a, window):\n",
    "    shape = a.shape[:-1] + (a.shape[-1] - window + 1, window)\n",
    "    strides = a.strides + (a.strides[-1],)\n",
    "    return np.lib.stride_tricks.as_strided(a, shape=shape, strides=strides)"
   ]
  },
  {
   "cell_type": "code",
   "execution_count": 151,
   "metadata": {},
   "outputs": [],
   "source": [
    "x = rolling_window(trainY, look_back)"
   ]
  },
  {
   "cell_type": "code",
   "execution_count": 152,
   "metadata": {},
   "outputs": [
    {
     "data": {
      "text/plain": [
       "53"
      ]
     },
     "execution_count": 152,
     "metadata": {},
     "output_type": "execute_result"
    }
   ],
   "source": [
    "len(x)"
   ]
  },
  {
   "cell_type": "code",
   "execution_count": 153,
   "metadata": {},
   "outputs": [
    {
     "data": {
      "text/plain": [
       "53"
      ]
     },
     "execution_count": 153,
     "metadata": {},
     "output_type": "execute_result"
    }
   ],
   "source": [
    "trainX = trainX[0:len(x)]\n",
    "len(trainX)"
   ]
  },
  {
   "cell_type": "code",
   "execution_count": 154,
   "metadata": {},
   "outputs": [
    {
     "data": {
      "text/plain": [
       "1"
      ]
     },
     "execution_count": 154,
     "metadata": {},
     "output_type": "execute_result"
    }
   ],
   "source": [
    "trainX = np.reshape(trainX, (trainX.shape[0], 1, trainX.shape[1]))\n",
    "testX = np.reshape(testX, (testX.shape[0], 1, testX.shape[1]))\n",
    "trainX.shape[1]"
   ]
  },
  {
   "cell_type": "code",
   "execution_count": 155,
   "metadata": {},
   "outputs": [
    {
     "name": "stdout",
     "output_type": "stream",
     "text": [
      "Epoch 1/250\n",
      " - 8s - loss: 860.0320\n",
      "Epoch 2/250\n",
      " - 0s - loss: 544.3495\n",
      "Epoch 3/250\n",
      " - 0s - loss: 253.3970\n",
      "Epoch 4/250\n",
      " - 0s - loss: 85.8456\n",
      "Epoch 5/250\n",
      " - 0s - loss: 33.3473\n",
      "Epoch 6/250\n",
      " - 0s - loss: 22.4400\n",
      "Epoch 7/250\n",
      " - 0s - loss: 20.1515\n",
      "Epoch 8/250\n",
      " - 0s - loss: 20.3151\n",
      "Epoch 9/250\n",
      " - 0s - loss: 19.5698\n",
      "Epoch 10/250\n",
      " - 0s - loss: 19.3838\n",
      "Epoch 11/250\n",
      " - 1s - loss: 19.3564\n",
      "Epoch 12/250\n",
      " - 0s - loss: 19.1728\n",
      "Epoch 13/250\n",
      " - 0s - loss: 19.5041\n",
      "Epoch 14/250\n",
      " - 0s - loss: 19.2433\n",
      "Epoch 15/250\n",
      " - 0s - loss: 19.2922\n",
      "Epoch 16/250\n",
      " - 0s - loss: 19.1167\n",
      "Epoch 17/250\n",
      " - 0s - loss: 18.9594\n",
      "Epoch 18/250\n",
      " - 0s - loss: 18.7348\n",
      "Epoch 19/250\n",
      " - 0s - loss: 19.2219\n",
      "Epoch 20/250\n",
      " - 0s - loss: 19.1092\n",
      "Epoch 21/250\n",
      " - 0s - loss: 19.0494\n",
      "Epoch 22/250\n",
      " - 0s - loss: 18.5814\n",
      "Epoch 23/250\n",
      " - 0s - loss: 19.2488\n",
      "Epoch 24/250\n",
      " - 0s - loss: 18.7426\n",
      "Epoch 25/250\n",
      " - 0s - loss: 18.4710\n",
      "Epoch 26/250\n",
      " - 0s - loss: 18.9743\n",
      "Epoch 27/250\n",
      " - 0s - loss: 18.3646\n",
      "Epoch 28/250\n",
      " - 0s - loss: 18.7767\n",
      "Epoch 29/250\n",
      " - 0s - loss: 18.2463\n",
      "Epoch 30/250\n",
      " - 0s - loss: 18.6807\n",
      "Epoch 31/250\n",
      " - 0s - loss: 18.4944\n",
      "Epoch 32/250\n",
      " - 0s - loss: 18.1728\n",
      "Epoch 33/250\n",
      " - 0s - loss: 18.2043\n",
      "Epoch 34/250\n",
      " - 0s - loss: 18.5749\n",
      "Epoch 35/250\n",
      " - 0s - loss: 18.3793\n",
      "Epoch 36/250\n",
      " - 0s - loss: 17.9804\n",
      "Epoch 37/250\n",
      " - 0s - loss: 17.9342\n",
      "Epoch 38/250\n",
      " - 0s - loss: 18.3383\n",
      "Epoch 39/250\n",
      " - 0s - loss: 17.7999\n",
      "Epoch 40/250\n",
      " - 0s - loss: 18.3821\n",
      "Epoch 41/250\n",
      " - 0s - loss: 17.7735\n",
      "Epoch 42/250\n",
      " - 0s - loss: 17.7950\n",
      "Epoch 43/250\n",
      " - 0s - loss: 17.7124\n",
      "Epoch 44/250\n",
      " - 0s - loss: 17.9137\n",
      "Epoch 45/250\n",
      " - 0s - loss: 18.0526\n",
      "Epoch 46/250\n",
      " - 0s - loss: 17.8995\n",
      "Epoch 47/250\n",
      " - 0s - loss: 17.7665\n",
      "Epoch 48/250\n",
      " - 0s - loss: 17.9342\n",
      "Epoch 49/250\n",
      " - 0s - loss: 17.7163\n",
      "Epoch 50/250\n",
      " - 0s - loss: 18.3710\n",
      "Epoch 51/250\n",
      " - 0s - loss: 17.6221\n",
      "Epoch 52/250\n",
      " - 0s - loss: 17.5310\n",
      "Epoch 53/250\n",
      " - 0s - loss: 17.6258\n",
      "Epoch 54/250\n",
      " - 0s - loss: 17.4794\n",
      "Epoch 55/250\n",
      " - 0s - loss: 17.2130\n",
      "Epoch 56/250\n",
      " - 0s - loss: 17.5516\n",
      "Epoch 57/250\n",
      " - 0s - loss: 17.1643\n",
      "Epoch 58/250\n",
      " - 0s - loss: 18.0404\n",
      "Epoch 59/250\n",
      " - 0s - loss: 17.2436\n",
      "Epoch 60/250\n",
      " - 0s - loss: 17.9549\n",
      "Epoch 61/250\n",
      " - 0s - loss: 17.1014\n",
      "Epoch 62/250\n",
      " - 0s - loss: 17.5992\n",
      "Epoch 63/250\n",
      " - 0s - loss: 17.2369\n",
      "Epoch 64/250\n",
      " - 0s - loss: 16.9012\n",
      "Epoch 65/250\n",
      " - 0s - loss: 16.8765\n",
      "Epoch 66/250\n",
      " - 0s - loss: 16.9171\n",
      "Epoch 67/250\n",
      " - 0s - loss: 16.9143\n",
      "Epoch 68/250\n",
      " - 0s - loss: 17.0506\n",
      "Epoch 69/250\n",
      " - 0s - loss: 17.2538\n",
      "Epoch 70/250\n",
      " - 0s - loss: 16.8941\n",
      "Epoch 71/250\n",
      " - 0s - loss: 16.9438\n",
      "Epoch 72/250\n",
      " - 0s - loss: 17.0582\n",
      "Epoch 73/250\n",
      " - 0s - loss: 16.9201\n",
      "Epoch 74/250\n",
      " - 0s - loss: 17.1124\n",
      "Epoch 75/250\n",
      " - 0s - loss: 16.9845\n",
      "Epoch 76/250\n",
      " - 0s - loss: 16.8138\n",
      "Epoch 77/250\n",
      " - 0s - loss: 16.9571\n",
      "Epoch 78/250\n",
      " - 0s - loss: 16.9922\n",
      "Epoch 79/250\n",
      " - 0s - loss: 17.0717\n",
      "Epoch 80/250\n",
      " - 0s - loss: 17.3336\n",
      "Epoch 81/250\n",
      " - 0s - loss: 17.1591\n",
      "Epoch 82/250\n",
      " - 0s - loss: 16.8557\n",
      "Epoch 83/250\n",
      " - 0s - loss: 16.6379\n",
      "Epoch 84/250\n",
      " - 0s - loss: 16.6605\n",
      "Epoch 85/250\n",
      " - 0s - loss: 17.2033\n",
      "Epoch 86/250\n",
      " - 0s - loss: 16.6586\n",
      "Epoch 87/250\n",
      " - 0s - loss: 16.8103\n",
      "Epoch 88/250\n",
      " - 0s - loss: 16.6554\n",
      "Epoch 89/250\n",
      " - 0s - loss: 17.0150\n",
      "Epoch 90/250\n",
      " - 0s - loss: 16.7108\n",
      "Epoch 91/250\n",
      " - 0s - loss: 16.5112\n",
      "Epoch 92/250\n",
      " - 0s - loss: 16.7776\n",
      "Epoch 93/250\n",
      " - 0s - loss: 16.7254\n",
      "Epoch 94/250\n",
      " - 0s - loss: 16.9145\n",
      "Epoch 95/250\n",
      " - 0s - loss: 16.7783\n",
      "Epoch 96/250\n",
      " - 0s - loss: 16.2651\n",
      "Epoch 97/250\n",
      " - 0s - loss: 16.9262\n",
      "Epoch 98/250\n",
      " - 0s - loss: 16.6260\n",
      "Epoch 99/250\n",
      " - 0s - loss: 16.8232\n",
      "Epoch 100/250\n",
      " - 0s - loss: 16.4444\n",
      "Epoch 101/250\n",
      " - 0s - loss: 16.3440\n",
      "Epoch 102/250\n",
      " - 0s - loss: 16.4175\n",
      "Epoch 103/250\n",
      " - 0s - loss: 16.3973\n",
      "Epoch 104/250\n",
      " - 0s - loss: 16.2353\n",
      "Epoch 105/250\n",
      " - 0s - loss: 16.6406\n",
      "Epoch 106/250\n",
      " - 0s - loss: 16.8273\n",
      "Epoch 107/250\n",
      " - 0s - loss: 16.8877\n",
      "Epoch 108/250\n",
      " - 0s - loss: 17.2415\n",
      "Epoch 109/250\n",
      " - 0s - loss: 17.0832\n",
      "Epoch 110/250\n",
      " - 0s - loss: 16.3184\n",
      "Epoch 111/250\n",
      " - 0s - loss: 16.2571\n",
      "Epoch 112/250\n",
      " - 0s - loss: 16.1587\n",
      "Epoch 113/250\n",
      " - 0s - loss: 16.3608\n",
      "Epoch 114/250\n",
      " - 0s - loss: 15.8442\n",
      "Epoch 115/250\n",
      " - 0s - loss: 17.3957\n",
      "Epoch 116/250\n",
      " - 0s - loss: 16.1741\n",
      "Epoch 117/250\n",
      " - 0s - loss: 16.6348\n",
      "Epoch 118/250\n",
      " - 0s - loss: 16.2326\n",
      "Epoch 119/250\n",
      " - 0s - loss: 17.2938\n",
      "Epoch 120/250\n",
      " - 0s - loss: 15.9722\n",
      "Epoch 121/250\n",
      " - 0s - loss: 15.9286\n",
      "Epoch 122/250\n",
      " - 0s - loss: 16.2445\n",
      "Epoch 123/250\n",
      " - 0s - loss: 16.0581\n",
      "Epoch 124/250\n",
      " - 0s - loss: 16.5589\n",
      "Epoch 125/250\n",
      " - 0s - loss: 16.1034\n",
      "Epoch 126/250\n",
      " - 0s - loss: 16.2346\n",
      "Epoch 127/250\n",
      " - 0s - loss: 16.7849\n",
      "Epoch 128/250\n",
      " - 0s - loss: 16.0443\n",
      "Epoch 129/250\n",
      " - 0s - loss: 16.6807\n",
      "Epoch 130/250\n",
      " - 0s - loss: 17.0092\n",
      "Epoch 131/250\n",
      " - 0s - loss: 16.1237\n",
      "Epoch 132/250\n",
      " - 0s - loss: 16.7322\n",
      "Epoch 133/250\n",
      " - 0s - loss: 16.3982\n",
      "Epoch 134/250\n",
      " - 0s - loss: 16.2671\n",
      "Epoch 135/250\n",
      " - 0s - loss: 16.4857\n",
      "Epoch 136/250\n",
      " - 0s - loss: 16.2273\n",
      "Epoch 137/250\n",
      " - 0s - loss: 15.7825\n",
      "Epoch 138/250\n",
      " - 0s - loss: 16.1292\n",
      "Epoch 139/250\n",
      " - 0s - loss: 16.1741\n",
      "Epoch 140/250\n",
      " - 0s - loss: 16.0552\n",
      "Epoch 141/250\n",
      " - 0s - loss: 15.6004\n",
      "Epoch 142/250\n",
      " - 0s - loss: 16.1298\n",
      "Epoch 143/250\n",
      " - 0s - loss: 15.7669\n",
      "Epoch 144/250\n",
      " - 0s - loss: 15.7669\n",
      "Epoch 145/250\n",
      " - 0s - loss: 15.9333\n",
      "Epoch 146/250\n",
      " - 0s - loss: 15.9746\n",
      "Epoch 147/250\n",
      " - 0s - loss: 15.9617\n",
      "Epoch 148/250\n",
      " - 0s - loss: 16.2950\n",
      "Epoch 149/250\n",
      " - 0s - loss: 17.6180\n",
      "Epoch 150/250\n",
      " - 0s - loss: 17.4691\n",
      "Epoch 151/250\n",
      " - 0s - loss: 16.3321\n",
      "Epoch 152/250\n",
      " - 0s - loss: 17.0470\n",
      "Epoch 153/250\n",
      " - 0s - loss: 15.8947\n",
      "Epoch 154/250\n",
      " - 0s - loss: 16.2139\n",
      "Epoch 155/250\n",
      " - 0s - loss: 16.0423\n",
      "Epoch 156/250\n",
      " - 0s - loss: 16.1673\n",
      "Epoch 157/250\n",
      " - 0s - loss: 15.8100\n",
      "Epoch 158/250\n",
      " - 0s - loss: 15.6671\n",
      "Epoch 159/250\n",
      " - 0s - loss: 16.1338\n",
      "Epoch 160/250\n",
      " - 0s - loss: 15.7344\n",
      "Epoch 161/250\n",
      " - 0s - loss: 15.6242\n",
      "Epoch 162/250\n",
      " - 0s - loss: 15.7604\n",
      "Epoch 163/250\n",
      " - 0s - loss: 15.8441\n",
      "Epoch 164/250\n",
      " - 0s - loss: 16.1165\n",
      "Epoch 165/250\n",
      " - 0s - loss: 16.0412\n",
      "Epoch 166/250\n",
      " - 0s - loss: 15.4670\n",
      "Epoch 167/250\n",
      " - 0s - loss: 15.8688\n",
      "Epoch 168/250\n",
      " - 0s - loss: 15.6711\n",
      "Epoch 169/250\n",
      " - 0s - loss: 16.2169\n",
      "Epoch 170/250\n",
      " - 0s - loss: 15.7344\n",
      "Epoch 171/250\n",
      " - 0s - loss: 15.2698\n",
      "Epoch 172/250\n",
      " - 0s - loss: 16.6226\n",
      "Epoch 173/250\n",
      " - 0s - loss: 16.2249\n",
      "Epoch 174/250\n",
      " - 0s - loss: 15.6984\n",
      "Epoch 175/250\n",
      " - 0s - loss: 15.6497\n",
      "Epoch 176/250\n",
      " - 0s - loss: 15.4031\n",
      "Epoch 177/250\n",
      " - 0s - loss: 16.1377\n",
      "Epoch 178/250\n",
      " - 0s - loss: 15.8310\n",
      "Epoch 179/250\n",
      " - 0s - loss: 15.6677\n",
      "Epoch 180/250\n",
      " - 0s - loss: 15.5851\n",
      "Epoch 181/250\n",
      " - 0s - loss: 15.4440\n",
      "Epoch 182/250\n",
      " - 0s - loss: 15.8191\n",
      "Epoch 183/250\n",
      " - 0s - loss: 16.0900\n",
      "Epoch 184/250\n",
      " - 0s - loss: 15.8457\n",
      "Epoch 185/250\n",
      " - 0s - loss: 15.6188\n",
      "Epoch 186/250\n",
      " - 0s - loss: 15.7502\n",
      "Epoch 187/250\n",
      " - 0s - loss: 16.2269\n",
      "Epoch 188/250\n",
      " - 0s - loss: 15.5792\n",
      "Epoch 189/250\n",
      " - 0s - loss: 15.5007\n",
      "Epoch 190/250\n",
      " - 0s - loss: 15.6436\n",
      "Epoch 191/250\n",
      " - 0s - loss: 16.0097\n",
      "Epoch 192/250\n",
      " - 0s - loss: 16.2577\n",
      "Epoch 193/250\n",
      " - 0s - loss: 15.8730\n",
      "Epoch 194/250\n",
      " - 0s - loss: 15.8111\n",
      "Epoch 195/250\n",
      " - 0s - loss: 15.7475\n",
      "Epoch 196/250\n",
      " - 0s - loss: 15.6729\n",
      "Epoch 197/250\n",
      " - 0s - loss: 16.2533\n",
      "Epoch 198/250\n",
      " - 0s - loss: 15.7322\n",
      "Epoch 199/250\n",
      " - 0s - loss: 15.4598\n",
      "Epoch 200/250\n",
      " - 0s - loss: 15.6881\n",
      "Epoch 201/250\n",
      " - 0s - loss: 15.5600\n",
      "Epoch 202/250\n",
      " - 0s - loss: 15.7361\n",
      "Epoch 203/250\n",
      " - 0s - loss: 15.6217\n",
      "Epoch 204/250\n",
      " - 0s - loss: 15.3638\n",
      "Epoch 205/250\n",
      " - 0s - loss: 15.4748\n",
      "Epoch 206/250\n",
      " - 0s - loss: 15.6200\n",
      "Epoch 207/250\n",
      " - 0s - loss: 15.5049\n",
      "Epoch 208/250\n",
      " - 0s - loss: 15.8989\n",
      "Epoch 209/250\n",
      " - 0s - loss: 15.6505\n",
      "Epoch 210/250\n",
      " - 0s - loss: 15.6918\n",
      "Epoch 211/250\n",
      " - 0s - loss: 15.7090\n",
      "Epoch 212/250\n",
      " - 0s - loss: 15.6253\n",
      "Epoch 213/250\n",
      " - 0s - loss: 15.5105\n",
      "Epoch 214/250\n",
      " - 0s - loss: 15.7127\n",
      "Epoch 215/250\n",
      " - 0s - loss: 15.6204\n",
      "Epoch 216/250\n",
      " - 0s - loss: 15.7887\n",
      "Epoch 217/250\n",
      " - 0s - loss: 16.0834\n",
      "Epoch 218/250\n",
      " - 0s - loss: 15.8530\n",
      "Epoch 219/250\n",
      " - 0s - loss: 15.6961\n",
      "Epoch 220/250\n",
      " - 0s - loss: 16.1081\n",
      "Epoch 221/250\n",
      " - 0s - loss: 15.6644\n",
      "Epoch 222/250\n",
      " - 0s - loss: 15.5392\n",
      "Epoch 223/250\n",
      " - 0s - loss: 15.4474\n",
      "Epoch 224/250\n",
      " - 0s - loss: 15.6899\n",
      "Epoch 225/250\n",
      " - 0s - loss: 15.3014\n",
      "Epoch 226/250\n",
      " - 0s - loss: 16.1868\n",
      "Epoch 227/250\n",
      " - 0s - loss: 15.4666\n",
      "Epoch 228/250\n",
      " - 0s - loss: 15.6029\n",
      "Epoch 229/250\n",
      " - 0s - loss: 15.7767\n",
      "Epoch 230/250\n",
      " - 0s - loss: 16.3645\n",
      "Epoch 231/250\n",
      " - 0s - loss: 15.1946\n",
      "Epoch 232/250\n",
      " - 0s - loss: 16.0309\n",
      "Epoch 233/250\n",
      " - 0s - loss: 15.4567\n",
      "Epoch 234/250\n",
      " - 0s - loss: 15.3808\n",
      "Epoch 235/250\n",
      " - 0s - loss: 15.8451\n",
      "Epoch 236/250\n",
      " - 0s - loss: 15.4833\n",
      "Epoch 237/250\n",
      " - 0s - loss: 15.8185\n",
      "Epoch 238/250\n",
      " - 0s - loss: 15.8026\n",
      "Epoch 239/250\n",
      " - 0s - loss: 15.5793\n",
      "Epoch 240/250\n",
      " - 0s - loss: 15.5122\n",
      "Epoch 241/250\n",
      " - 0s - loss: 15.3862\n",
      "Epoch 242/250\n",
      " - 0s - loss: 15.3441\n",
      "Epoch 243/250\n",
      " - 0s - loss: 15.3233\n",
      "Epoch 244/250\n",
      " - 0s - loss: 15.2855\n",
      "Epoch 245/250\n",
      " - 0s - loss: 15.7664\n",
      "Epoch 246/250\n",
      " - 0s - loss: 15.8580\n",
      "Epoch 247/250\n",
      " - 0s - loss: 15.4756\n",
      "Epoch 248/250\n",
      " - 0s - loss: 15.6667\n",
      "Epoch 249/250\n",
      " - 0s - loss: 15.3250\n",
      "Epoch 250/250\n",
      " - 0s - loss: 15.5245\n"
     ]
    },
    {
     "data": {
      "text/plain": [
       "<keras.callbacks.History at 0x2515ed1a708>"
      ]
     },
     "execution_count": 155,
     "metadata": {},
     "output_type": "execute_result"
    }
   ],
   "source": [
    "model = Sequential()\n",
    "model.add(LSTM(6, recurrent_activation='linear', input_shape=(1, look_back)))\n",
    "model.add(Dense(look_back))\n",
    "model.compile(loss='mean_squared_error', optimizer='adam')\n",
    "model.fit(trainX, x, epochs=250, batch_size=1, verbose=2)"
   ]
  },
  {
   "cell_type": "code",
   "execution_count": 156,
   "metadata": {
    "scrolled": false
   },
   "outputs": [],
   "source": [
    "testPredict = model.predict(testX)\n",
    "# shift train predictions for plotting\n",
    "#testX1, testY1 = create_dataset(test, look_back)\n",
    "#TestMSE = math.sqrt(mean_squared_error(testPredict, testY1))\n",
    "#print(TestMSE)\n",
    "#trainPredictPlot = np.empty_like(dataset)\n",
    "#trainPredictPlot[:, :] = np.nan\n",
    "#look_back = 0\n",
    "#trainPredictPlot[look_back:len(trainPredict)+look_back, :] = trainPredict\n",
    "# shift test predictions for plotting\n",
    "#testPredictPlot = numpy.empty_like(dataset)\n",
    "#testPredictPlot[:, :] = numpy.nan\n",
    "#testPredictPlot[len(trainPredict)+(look_back*2)+1:len(dataset)-1, :] = testPredict\n",
    "# plot baseline and predictions\n",
    "#plt.plot(trainPredictPlot)\n",
    "#plt.plot(trainY1)\n",
    "#plt.show()"
   ]
  },
  {
   "cell_type": "code",
   "execution_count": 157,
   "metadata": {},
   "outputs": [
    {
     "data": {
      "text/plain": [
       "array([[49.854103, 50.181664, 50.52774 , 49.587906, 51.38064 , 50.386784],\n",
       "       [47.238956, 47.52643 , 47.641525, 48.837067, 48.81179 , 50.460674],\n",
       "       [51.598686, 51.174522, 50.95926 , 52.1962  , 50.929012, 54.43175 ],\n",
       "       [55.279152, 53.22223 , 54.40212 , 54.870895, 53.06885 , 57.41035 ],\n",
       "       [58.400185, 59.312225, 58.565567, 58.801548, 60.184406, 60.017673],\n",
       "       [59.72074 , 60.35305 , 60.6391  , 60.22604 , 62.401703, 61.188328],\n",
       "       [56.92271 , 56.999733, 57.5986  , 59.106895, 59.124256, 61.04783 ]],\n",
       "      dtype=float32)"
      ]
     },
     "execution_count": 157,
     "metadata": {},
     "output_type": "execute_result"
    }
   ],
   "source": [
    "testPredict"
   ]
  },
  {
   "cell_type": "code",
   "execution_count": 158,
   "metadata": {},
   "outputs": [
    {
     "data": {
      "text/plain": [
       "array([48.65, 54.35, 57.52, 63.98, 62.91, 58.54, 55.24], dtype=float32)"
      ]
     },
     "execution_count": 158,
     "metadata": {},
     "output_type": "execute_result"
    }
   ],
   "source": [
    "testY"
   ]
  },
  {
   "cell_type": "code",
   "execution_count": 159,
   "metadata": {},
   "outputs": [
    {
     "name": "stdout",
     "output_type": "stream",
     "text": [
      "[  1.2041016  -4.168335   -6.99226   -14.392094  -11.529362   -8.153217 ]\n",
      "-7.3385277\n",
      "8.890538756584116\n",
      "0\n",
      "[ -7.111042   -9.993572  -16.338474  -14.072933   -9.72821    -4.7793274]\n",
      "-10.33726\n",
      "11.052237195314095\n",
      "1\n"
     ]
    }
   ],
   "source": [
    "for i in range(len(testY)-5):\n",
    "    a = testPredict[i]\n",
    "    m = a- testY[i:len(testY)-1+i]\n",
    "    print(m)\n",
    "    print(np.mean(m))\n",
    "    k = math.sqrt(mean_squared_error(a, testY[i:len(testY)-1+i]))\n",
    "    print(k)\n",
    "    print(i)\n"
   ]
  },
  {
   "cell_type": "code",
   "execution_count": 160,
   "metadata": {
    "scrolled": true
   },
   "outputs": [
    {
     "data": {
      "text/plain": [
       "[<matplotlib.lines.Line2D at 0x2517d99d448>]"
      ]
     },
     "execution_count": 160,
     "metadata": {},
     "output_type": "execute_result"
    },
    {
     "data": {
      "image/png": "[encoded data removed]",
      "text/plain": [
       "<Figure size 432x288 with 1 Axes>"
      ]
     },
     "metadata": {
      "needs_background": "light"
     },
     "output_type": "display_data"
    }
   ],
   "source": [
    "plt.ylim([0,100])\n",
    "plt.plot(testPredict[0])\n",
    "plt.plot(testY[0:6])"
   ]
  },
  {
   "cell_type": "code",
   "execution_count": 161,
   "metadata": {},
   "outputs": [
    {
     "data": {
      "text/plain": [
       "[<matplotlib.lines.Line2D at 0x2517d9f4ac8>]"
      ]
     },
     "execution_count": 161,
     "metadata": {},
     "output_type": "execute_result"
    },
    {
     "data": {
      "image/png": "[encoded data removed]",
      "text/plain": [
       "<Figure size 432x288 with 1 Axes>"
      ]
     },
     "metadata": {
      "needs_background": "light"
     },
     "output_type": "display_data"
    }
   ],
   "source": [
    "plt.ylim([0,100])\n",
    "plt.plot(testPredict[1])\n",
    "plt.plot(testY[1:7])"
   ]
  },
  {
   "cell_type": "code",
   "execution_count": 130,
   "metadata": {},
   "outputs": [
    {
     "name": "stdout",
     "output_type": "stream",
     "text": [
      "65 14\n"
     ]
    }
   ],
   "source": [
    "WTI = np.array(WTI)\n",
    "WTI = WTI.astype('float32')\n",
    "\n",
    "\n",
    "#normalize the dataset\n",
    "#scaler = MinMaxScaler(feature_range=(-1, 1))\n",
    "#dataset = scaler.fit_transform(dataset)\n",
    "# split into train and test sets\n",
    "train_size = int(210)\n",
    "test_size = len(WTI) - train_size\n",
    "train = WTI[145:train_size]\n",
    "test = WTI[train_size:len(dataset)] \n",
    "print(len(train), len(test))\n",
    "# convert an array of values into a dataset matrix\n",
    "def create_dataset(dataset, look_back=3):\n",
    "    dataX, dataY = [], []\n",
    "    for i in range(len(dataset)-look_back-1):\n",
    "        a = dataset[i:(i+look_back)]\n",
    "        dataX.append(a)\n",
    "        dataY.append(dataset[i + look_back])\n",
    "    return np.array(dataX), np.array(dataY)"
   ]
  },
  {
   "cell_type": "code",
   "execution_count": 131,
   "metadata": {},
   "outputs": [],
   "source": [
    "look_back = 1\n",
    "WTItrainX, WTItrainY = create_dataset(train, look_back)\n",
    "WTItestX, WTItestY = create_dataset(test, look_back)\n",
    "WTItrainX = WTItrainX.T"
   ]
  },
  {
   "cell_type": "code",
   "execution_count": 132,
   "metadata": {},
   "outputs": [],
   "source": [
    "#WTItrainX = np.column_stack((WTItrainX, trainX))\n",
    "#WTItrainY = np.column_stack((WTItrainY, trainY))\n",
    "#WTItestX = np.column_stack((WTItestX, testX))\n",
    "#WTItestY = np.column_stack((WTItestY, testY))"
   ]
  },
  {
   "cell_type": "code",
   "execution_count": 133,
   "metadata": {},
   "outputs": [],
   "source": [
    "#WTItrainX"
   ]
  },
  {
   "cell_type": "code",
   "execution_count": 134,
   "metadata": {},
   "outputs": [],
   "source": [
    "#WTItrainX = np.reshape(WTItrainX, (WTItrainX.shape[0], 1, WTItrainX.shape[1]))\n",
    "#WTItestX = np.reshape(WTItestX, (WTItestX.shape[0], 1, WTItestX.shape[1]))\n",
    "#WTItrainX.shape[1]"
   ]
  },
  {
   "cell_type": "code",
   "execution_count": 135,
   "metadata": {},
   "outputs": [
    {
     "ename": "ValueError",
     "evalue": "Error when checking input: expected lstm_6_input to have 3 dimensions, but got array with shape (1, 63)",
     "output_type": "error",
     "traceback": [
      "\u001b[1;31m---------------------------------------------------------------------------\u001b[0m",
      "\u001b[1;31mValueError\u001b[0m                                Traceback (most recent call last)",
      "\u001b[1;32m<ipython-input-135-8346e5df3727>\u001b[0m in \u001b[0;36m<module>\u001b[1;34m\u001b[0m\n\u001b[0;32m      3\u001b[0m \u001b[0mmodel\u001b[0m\u001b[1;33m.\u001b[0m\u001b[0madd\u001b[0m\u001b[1;33m(\u001b[0m\u001b[0mDense\u001b[0m\u001b[1;33m(\u001b[0m\u001b[0mlook_back\u001b[0m\u001b[1;33m)\u001b[0m\u001b[1;33m)\u001b[0m\u001b[1;33m\u001b[0m\u001b[1;33m\u001b[0m\u001b[0m\n\u001b[0;32m      4\u001b[0m \u001b[0mmodel\u001b[0m\u001b[1;33m.\u001b[0m\u001b[0mcompile\u001b[0m\u001b[1;33m(\u001b[0m\u001b[0mloss\u001b[0m\u001b[1;33m=\u001b[0m\u001b[1;34m'mean_squared_error'\u001b[0m\u001b[1;33m,\u001b[0m \u001b[0moptimizer\u001b[0m\u001b[1;33m=\u001b[0m\u001b[1;34m'adam'\u001b[0m\u001b[1;33m)\u001b[0m\u001b[1;33m\u001b[0m\u001b[1;33m\u001b[0m\u001b[0m\n\u001b[1;32m----> 5\u001b[1;33m \u001b[0mmodel\u001b[0m\u001b[1;33m.\u001b[0m\u001b[0mfit\u001b[0m\u001b[1;33m(\u001b[0m\u001b[0mWTItrainX\u001b[0m\u001b[1;33m,\u001b[0m \u001b[0mWTItrainY\u001b[0m\u001b[1;33m,\u001b[0m \u001b[0mepochs\u001b[0m\u001b[1;33m=\u001b[0m\u001b[1;36m100\u001b[0m\u001b[1;33m,\u001b[0m \u001b[0mbatch_size\u001b[0m\u001b[1;33m=\u001b[0m\u001b[1;36m1\u001b[0m\u001b[1;33m,\u001b[0m \u001b[0mverbose\u001b[0m\u001b[1;33m=\u001b[0m\u001b[1;36m2\u001b[0m\u001b[1;33m)\u001b[0m\u001b[1;33m\u001b[0m\u001b[1;33m\u001b[0m\u001b[0m\n\u001b[0m",
      "\u001b[1;32m~\\Anaconda3\\lib\\site-packages\\keras\\engine\\training.py\u001b[0m in \u001b[0;36mfit\u001b[1;34m(self, x, y, batch_size, epochs, verbose, callbacks, validation_split, validation_data, shuffle, class_weight, sample_weight, initial_epoch, steps_per_epoch, validation_steps, **kwargs)\u001b[0m\n\u001b[0;32m    950\u001b[0m             \u001b[0msample_weight\u001b[0m\u001b[1;33m=\u001b[0m\u001b[0msample_weight\u001b[0m\u001b[1;33m,\u001b[0m\u001b[1;33m\u001b[0m\u001b[1;33m\u001b[0m\u001b[0m\n\u001b[0;32m    951\u001b[0m             \u001b[0mclass_weight\u001b[0m\u001b[1;33m=\u001b[0m\u001b[0mclass_weight\u001b[0m\u001b[1;33m,\u001b[0m\u001b[1;33m\u001b[0m\u001b[1;33m\u001b[0m\u001b[0m\n\u001b[1;32m--> 952\u001b[1;33m             batch_size=batch_size)\n\u001b[0m\u001b[0;32m    953\u001b[0m         \u001b[1;31m# Prepare validation data.\u001b[0m\u001b[1;33m\u001b[0m\u001b[1;33m\u001b[0m\u001b[1;33m\u001b[0m\u001b[0m\n\u001b[0;32m    954\u001b[0m         \u001b[0mdo_validation\u001b[0m \u001b[1;33m=\u001b[0m \u001b[1;32mFalse\u001b[0m\u001b[1;33m\u001b[0m\u001b[1;33m\u001b[0m\u001b[0m\n",
      "\u001b[1;32m~\\Anaconda3\\lib\\site-packages\\keras\\engine\\training.py\u001b[0m in \u001b[0;36m_standardize_user_data\u001b[1;34m(self, x, y, sample_weight, class_weight, check_array_lengths, batch_size)\u001b[0m\n\u001b[0;32m    749\u001b[0m             \u001b[0mfeed_input_shapes\u001b[0m\u001b[1;33m,\u001b[0m\u001b[1;33m\u001b[0m\u001b[1;33m\u001b[0m\u001b[0m\n\u001b[0;32m    750\u001b[0m             \u001b[0mcheck_batch_axis\u001b[0m\u001b[1;33m=\u001b[0m\u001b[1;32mFalse\u001b[0m\u001b[1;33m,\u001b[0m  \u001b[1;31m# Don't enforce the batch size.\u001b[0m\u001b[1;33m\u001b[0m\u001b[1;33m\u001b[0m\u001b[0m\n\u001b[1;32m--> 751\u001b[1;33m             exception_prefix='input')\n\u001b[0m\u001b[0;32m    752\u001b[0m \u001b[1;33m\u001b[0m\u001b[0m\n\u001b[0;32m    753\u001b[0m         \u001b[1;32mif\u001b[0m \u001b[0my\u001b[0m \u001b[1;32mis\u001b[0m \u001b[1;32mnot\u001b[0m \u001b[1;32mNone\u001b[0m\u001b[1;33m:\u001b[0m\u001b[1;33m\u001b[0m\u001b[1;33m\u001b[0m\u001b[0m\n",
      "\u001b[1;32m~\\Anaconda3\\lib\\site-packages\\keras\\engine\\training_utils.py\u001b[0m in \u001b[0;36mstandardize_input_data\u001b[1;34m(data, names, shapes, check_batch_axis, exception_prefix)\u001b[0m\n\u001b[0;32m    126\u001b[0m                         \u001b[1;34m': expected '\u001b[0m \u001b[1;33m+\u001b[0m \u001b[0mnames\u001b[0m\u001b[1;33m[\u001b[0m\u001b[0mi\u001b[0m\u001b[1;33m]\u001b[0m \u001b[1;33m+\u001b[0m \u001b[1;34m' to have '\u001b[0m \u001b[1;33m+\u001b[0m\u001b[1;33m\u001b[0m\u001b[1;33m\u001b[0m\u001b[0m\n\u001b[0;32m    127\u001b[0m                         \u001b[0mstr\u001b[0m\u001b[1;33m(\u001b[0m\u001b[0mlen\u001b[0m\u001b[1;33m(\u001b[0m\u001b[0mshape\u001b[0m\u001b[1;33m)\u001b[0m\u001b[1;33m)\u001b[0m \u001b[1;33m+\u001b[0m \u001b[1;34m' dimensions, but got array '\u001b[0m\u001b[1;33m\u001b[0m\u001b[1;33m\u001b[0m\u001b[0m\n\u001b[1;32m--> 128\u001b[1;33m                         'with shape ' + str(data_shape))\n\u001b[0m\u001b[0;32m    129\u001b[0m                 \u001b[1;32mif\u001b[0m \u001b[1;32mnot\u001b[0m \u001b[0mcheck_batch_axis\u001b[0m\u001b[1;33m:\u001b[0m\u001b[1;33m\u001b[0m\u001b[1;33m\u001b[0m\u001b[0m\n\u001b[0;32m    130\u001b[0m                     \u001b[0mdata_shape\u001b[0m \u001b[1;33m=\u001b[0m \u001b[0mdata_shape\u001b[0m\u001b[1;33m[\u001b[0m\u001b[1;36m1\u001b[0m\u001b[1;33m:\u001b[0m\u001b[1;33m]\u001b[0m\u001b[1;33m\u001b[0m\u001b[1;33m\u001b[0m\u001b[0m\n",
      "\u001b[1;31mValueError\u001b[0m: Error when checking input: expected lstm_6_input to have 3 dimensions, but got array with shape (1, 63)"
     ]
    }
   ],
   "source": [
    "model = Sequential()\n",
    "model.add(LSTM(6, recurrent_activation='linear', input_shape=(1, look_back)))\n",
    "model.add(Dense(look_back))\n",
    "model.compile(loss='mean_squared_error', optimizer='adam')\n",
    "model.fit(WTItrainX, WTItrainY, epochs=100, batch_size=1, verbose=2)"
   ]
  },
  {
   "cell_type": "code",
   "execution_count": null,
   "metadata": {},
   "outputs": [],
   "source": [
    "trainPredict = np.reshape(trainPredict, (trainPredict.shape[0], 1, trainPredict.shape[1]))"
   ]
  }
 ],
 "metadata": {
  "kernelspec": {
   "display_name": "Python 3",
   "language": "python",
   "name": "python3"
  },
  "language_info": {
   "codemirror_mode": {
    "name": "ipython",
    "version": 3
   },
   "file_extension": ".py",
   "mimetype": "text/x-python",
   "name": "python",
   "nbconvert_exporter": "python",
   "pygments_lexer": "ipython3",
   "version": "3.7.4"
  }
 },
 "nbformat": 4,
 "nbformat_minor": 2
}
